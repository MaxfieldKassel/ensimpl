{
 "cells": [
  {
   "cell_type": "code",
   "execution_count": null,
   "metadata": {},
   "outputs": [],
   "source": [
    "import ensimpl.utils as utils\n",
    "import ensimpl.fetch.utils as fetch_utils\n",
    "import sqlite3 \n",
    "\n",
    "\n",
    "SQL_ID_GENES = '''\n",
    "SELECT e.ensembl_id ensembl_id, \n",
    "       e.ensembl_id gene_id,\n",
    "       e.ensembl_version gene_version,\n",
    "       e.species_id gene_species_id,\n",
    "       e.symbol gene_symbol,\n",
    "       e.name gene_name,\n",
    "       e.synonyms gene_synonyms,\n",
    "       e.external_ids gene_external_ids,\n",
    "       e.chromosome gene_chromosome,\n",
    "       e.start_position gene_start,\n",
    "       e.end_position gene_end,\n",
    "       e.strand gene_strand,\n",
    "       'EG' type_key\n",
    "  FROM ensembl_genes e\n",
    " WHERE 1 = 1\n",
    "'''\n",
    "\n",
    "SQL_WHERE_ID = '''\n",
    "  AND e.ensembl_id IN (SELECT distinct ensembl_id FROM {})\n",
    "'''\n",
    "\n",
    "SQL_ORDER_BY = ' ORDER BY e.ensembl_id'\n",
    "\n",
    "\n",
    "def get_all():\n",
    "    variables = {}\n",
    "\n",
    "    conn = fetch_utils.connect_to_database('91', 'Mm')\n",
    "\n",
    "    conn.row_factory = sqlite3.Row\n",
    "    cursor = conn.cursor()\n",
    "\n",
    "    SQL_QUERY = '{} {}'.format(SQL_ID_GENES, SQL_ORDER_BY)\n",
    "    \n",
    "    ret = []\n",
    "\n",
    "    for row in cursor.execute(SQL_QUERY, variables):\n",
    "        ret.append(row)\n",
    "\n",
    "    conn.close()\n",
    "    \n",
    "    return ret\n",
    "\n",
    "\n",
    "def get_yield():\n",
    "    variables = {}\n",
    "\n",
    "    conn = fetch_utils.connect_to_database('91', 'Mm')\n",
    "\n",
    "    conn.row_factory = sqlite3.Row\n",
    "    cursor = conn.cursor()\n",
    "\n",
    "    SQL_QUERY = '{} {}'.format(SQL_ID_GENES, SQL_ORDER_BY)\n",
    "    \n",
    "    for row in cursor.execute(SQL_QUERY, variables):\n",
    "        yield row\n",
    "            \n",
    "    conn.close()\n"
   ]
  },
  {
   "cell_type": "code",
   "execution_count": null,
   "metadata": {},
   "outputs": [],
   "source": [
    "def ResultIter(cursor, arraysize=1000):\n",
    "    'An iterator that uses fetchmany to keep memory usage down'\n",
    "    while True:\n",
    "        results = cursor.fetchmany(arraysize)\n",
    "        if not results:\n",
    "            break\n",
    "        for result in results:\n",
    "            yield result"
   ]
  },
  {
   "cell_type": "code",
   "execution_count": null,
   "metadata": {},
   "outputs": [],
   "source": [
    "for a in get_yield():\n",
    "    pass\n",
    "print('done')"
   ]
  },
  {
   "cell_type": "code",
   "execution_count": null,
   "metadata": {},
   "outputs": [],
   "source": [
    "from ensimpl.fetch import genes"
   ]
  },
  {
   "cell_type": "code",
   "execution_count": null,
   "metadata": {},
   "outputs": [],
   "source": [
    "genes.get(version=91, species='Mm')"
   ]
  },
  {
   "cell_type": "code",
   "execution_count": 1,
   "metadata": {},
   "outputs": [],
   "source": [
    "import ensimpl.utils as utils\n",
    "import ensimpl.fetch.utils as fetch_utils"
   ]
  },
  {
   "cell_type": "code",
   "execution_count": 3,
   "metadata": {},
   "outputs": [
    {
     "name": "stdout",
     "output_type": "stream",
     "text": [
      "location= 1:1000-10000\n"
     ]
    }
   ],
   "source": [
    "a=fetch_utils.str_to_region('1:1000-10000')"
   ]
  },
  {
   "cell_type": "code",
   "execution_count": 4,
   "metadata": {},
   "outputs": [
    {
     "data": {
      "text/plain": [
       "<class 'ensimpl.fetch.utils.Region'>(1:1000-10000')"
      ]
     },
     "execution_count": 4,
     "metadata": {},
     "output_type": "execute_result"
    }
   ],
   "source": [
    "a"
   ]
  },
  {
   "cell_type": "code",
   "execution_count": 5,
   "metadata": {},
   "outputs": [
    {
     "data": {
      "text/plain": [
       "'1:1000-10000'"
      ]
     },
     "execution_count": 5,
     "metadata": {},
     "output_type": "execute_result"
    }
   ],
   "source": [
    "str(a)"
   ]
  },
  {
   "cell_type": "code",
   "execution_count": 6,
   "metadata": {},
   "outputs": [
    {
     "data": {
      "text/plain": [
       "1000"
      ]
     },
     "execution_count": 6,
     "metadata": {},
     "output_type": "execute_result"
    }
   ],
   "source": [
    "a.start_position"
   ]
  },
  {
   "cell_type": "code",
   "execution_count": null,
   "metadata": {},
   "outputs": [],
   "source": []
  }
 ],
 "metadata": {
  "kernelspec": {
   "display_name": "Python 3",
   "language": "python",
   "name": "python3"
  },
  "language_info": {
   "codemirror_mode": {
    "name": "ipython",
    "version": 3
   },
   "file_extension": ".py",
   "mimetype": "text/x-python",
   "name": "python",
   "nbconvert_exporter": "python",
   "pygments_lexer": "ipython3",
   "version": "3.6.5"
  }
 },
 "nbformat": 4,
 "nbformat_minor": 2
}
